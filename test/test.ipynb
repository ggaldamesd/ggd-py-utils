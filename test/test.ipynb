{
 "cells": [
  {
   "cell_type": "code",
   "execution_count": 1,
   "metadata": {},
   "outputs": [
    {
     "name": "stdout",
     "output_type": "stream",
     "text": [
      "\u001b[33mDEPRECATION: Loading egg at /home/codespace/.local/lib/python3.12/site-packages/fasttext_wheel-0.9.2-py3.12-linux-x86_64.egg is deprecated. pip 24.3 will enforce this behaviour change. A possible replacement is to use pip for package installation. Discussion can be found at https://github.com/pypa/pip/issues/12330\u001b[0m\u001b[33m\n",
      "\u001b[0m\u001b[33mDEPRECATION: Loading egg at /home/codespace/.local/lib/python3.12/site-packages/pybind11-2.14.0.dev1-py3.12.egg is deprecated. pip 24.3 will enforce this behaviour change. A possible replacement is to use pip for package installation. Discussion can be found at https://github.com/pypa/pip/issues/12330\u001b[0m\u001b[33m\n",
      "\u001b[0m\u001b[33mDEPRECATION: Loading egg at /home/codespace/.local/lib/python3.12/site-packages/faiss_cpu-1.8.0-py3.12-linux-x86_64.egg is deprecated. pip 24.3 will enforce this behaviour change. A possible replacement is to use pip for package installation. Discussion can be found at https://github.com/pypa/pip/issues/12330\u001b[0m\u001b[33m\n",
      "\u001b[0m\u001b[33mDEPRECATION: Loading egg at /home/codespace/.local/lib/python3.12/site-packages/ggd_py_utils-0.1.0-py3.12.egg is deprecated. pip 24.3 will enforce this behaviour change. A possible replacement is to use pip for package installation. Discussion can be found at https://github.com/pypa/pip/issues/12330\u001b[0m\u001b[33m\n",
      "\u001b[0m\u001b[33mDEPRECATION: Loading egg at /home/codespace/.local/lib/python3.12/site-packages/plotly-5.22.0-py3.12.egg is deprecated. pip 24.3 will enforce this behaviour change. A possible replacement is to use pip for package installation. Discussion can be found at https://github.com/pypa/pip/issues/12330\u001b[0m\u001b[33m\n",
      "\u001b[0m\u001b[33mDEPRECATION: Loading egg at /home/codespace/.local/lib/python3.12/site-packages/Unidecode-1.3.8-py3.12.egg is deprecated. pip 24.3 will enforce this behaviour change. A possible replacement is to use pip for package installation. Discussion can be found at https://github.com/pypa/pip/issues/12330\u001b[0m\u001b[33m\n",
      "\u001b[0m\u001b[33mDEPRECATION: Loading egg at /home/codespace/.local/lib/python3.12/site-packages/chime-0.7.0-py3.12.egg is deprecated. pip 24.3 will enforce this behaviour change. A possible replacement is to use pip for package installation. Discussion can be found at https://github.com/pypa/pip/issues/12330\u001b[0m\u001b[33m\n",
      "\u001b[0mCollecting git+https://github.com/ggaldamesd/ggd-py-utils.git\n",
      "  Cloning https://github.com/ggaldamesd/ggd-py-utils.git to /tmp/pip-req-build-k60rk_ca\n",
      "  Running command git clone --filter=blob:none --quiet https://github.com/ggaldamesd/ggd-py-utils.git /tmp/pip-req-build-k60rk_ca\n",
      "  Resolved https://github.com/ggaldamesd/ggd-py-utils.git to commit 3d072c4251cd38820a68afe6383b553da24a2a80\n",
      "  Preparing metadata (setup.py) ... \u001b[?25ldone\n",
      "\u001b[?25hRequirement already satisfied: faiss-cpu==1.8.0 in /home/codespace/.local/lib/python3.12/site-packages/faiss_cpu-1.8.0-py3.12-linux-x86_64.egg (from ggd-py-utils==0.1.0) (1.8.0)\n",
      "Requirement already satisfied: unidecode==1.3.8 in /home/codespace/.local/lib/python3.12/site-packages/Unidecode-1.3.8-py3.12.egg (from ggd-py-utils==0.1.0) (1.3.8)\n",
      "Requirement already satisfied: colorama==0.4.6 in /home/codespace/.local/lib/python3.12/site-packages (from ggd-py-utils==0.1.0) (0.4.6)\n",
      "Requirement already satisfied: chime==0.7.0 in /home/codespace/.local/lib/python3.12/site-packages/chime-0.7.0-py3.12.egg (from ggd-py-utils==0.1.0) (0.7.0)\n",
      "Requirement already satisfied: fasttext-wheel==0.9.2 in /home/codespace/.local/lib/python3.12/site-packages/fasttext_wheel-0.9.2-py3.12-linux-x86_64.egg (from ggd-py-utils==0.1.0) (0.9.2)\n",
      "Requirement already satisfied: plotly==5.22.0 in /home/codespace/.local/lib/python3.12/site-packages/plotly-5.22.0-py3.12.egg (from ggd-py-utils==0.1.0) (5.22.0)\n",
      "Requirement already satisfied: numpy in /home/codespace/.local/lib/python3.12/site-packages (from faiss-cpu==1.8.0->ggd-py-utils==0.1.0) (2.1.0)\n",
      "Requirement already satisfied: pybind11>=2.2 in /home/codespace/.local/lib/python3.12/site-packages/pybind11-2.14.0.dev1-py3.12.egg (from fasttext-wheel==0.9.2->ggd-py-utils==0.1.0) (2.14.0.dev1)\n",
      "Requirement already satisfied: setuptools>=0.7.0 in /home/codespace/.local/lib/python3.12/site-packages (from fasttext-wheel==0.9.2->ggd-py-utils==0.1.0) (73.0.1)\n",
      "Requirement already satisfied: tenacity>=6.2.0 in /home/codespace/.local/lib/python3.12/site-packages (from plotly==5.22.0->ggd-py-utils==0.1.0) (9.0.0)\n",
      "Requirement already satisfied: packaging in /home/codespace/.local/lib/python3.12/site-packages (from plotly==5.22.0->ggd-py-utils==0.1.0) (24.1)\n",
      "Note: you may need to restart the kernel to use updated packages.\n"
     ]
    }
   ],
   "source": [
    "%pip install git+https://github.com/ggaldamesd/ggd-py-utils.git"
   ]
  },
  {
   "cell_type": "code",
   "execution_count": 2,
   "metadata": {},
   "outputs": [
    {
     "name": "stdout",
     "output_type": "stream",
     "text": [
      "\u001b[36mTrace: hola -> \u001b[33mTook: \u001b[32m0.00s\u001b[0m\n"
     ]
    }
   ],
   "source": [
    "from ggd_py_utils.tracing.metrics import time_block\n",
    "\n",
    "with time_block(block_name=\"hola\"):\n",
    "    pass"
   ]
  }
 ],
 "metadata": {
  "kernelspec": {
   "display_name": "Python 3 (ipykernel)",
   "language": "python",
   "name": "python3"
  },
  "language_info": {
   "codemirror_mode": {
    "name": "ipython",
    "version": 3
   },
   "file_extension": ".py",
   "mimetype": "text/x-python",
   "name": "python",
   "nbconvert_exporter": "python",
   "pygments_lexer": "ipython3",
   "version": "3.12.1"
  }
 },
 "nbformat": 4,
 "nbformat_minor": 2
}
