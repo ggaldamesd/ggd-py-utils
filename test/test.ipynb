{
 "cells": [
  {
   "cell_type": "code",
   "execution_count": 1,
   "metadata": {},
   "outputs": [
    {
     "name": "stdout",
     "output_type": "stream",
     "text": [
      "Collecting git+https://github.com/ggaldamesd/ggd-py-utils.git\n",
      "  Cloning https://github.com/ggaldamesd/ggd-py-utils.git to c:\\users\\gerar\\appdata\\local\\temp\\pip-req-build-ihoj6n18\n",
      "  Resolved https://github.com/ggaldamesd/ggd-py-utils.git to commit 3b4c4733dcef0deb34186d613aae394e8c890649\n",
      "  Preparing metadata (setup.py): started\n",
      "  Preparing metadata (setup.py): finished with status 'done'\n",
      "Requirement already satisfied: unidecode==1.3.8 in c:\\program files\\python311\\lib\\site-packages (from ggd-py-utils==0.1.0) (1.3.8)\n",
      "Requirement already satisfied: nltk==3.8.1 in c:\\program files\\python311\\lib\\site-packages (from ggd-py-utils==0.1.0) (3.8.1)\n",
      "Requirement already satisfied: pandas==2.2.2 in c:\\users\\gerar\\appdata\\roaming\\python\\python311\\site-packages (from ggd-py-utils==0.1.0) (2.2.2)\n",
      "Requirement already satisfied: tqdm==4.66.2 in c:\\users\\gerar\\appdata\\roaming\\python\\python311\\site-packages (from ggd-py-utils==0.1.0) (4.66.2)\n",
      "Requirement already satisfied: imbalanced-learn==0.12.3 in c:\\program files\\python311\\lib\\site-packages (from ggd-py-utils==0.1.0) (0.12.3)\n",
      "Requirement already satisfied: scikit-learn==1.5.0 in c:\\program files\\python311\\lib\\site-packages (from ggd-py-utils==0.1.0) (1.5.0)\n",
      "Requirement already satisfied: colorama==0.4.6 in c:\\users\\gerar\\appdata\\roaming\\python\\python311\\site-packages (from ggd-py-utils==0.1.0) (0.4.6)\n",
      "Requirement already satisfied: chime==0.7.0 in c:\\program files\\python311\\lib\\site-packages (from ggd-py-utils==0.1.0) (0.7.0)\n",
      "Requirement already satisfied: numpy>=1.17.3 in c:\\users\\gerar\\appdata\\roaming\\python\\python311\\site-packages (from imbalanced-learn==0.12.3->ggd-py-utils==0.1.0) (1.26.4)\n",
      "Requirement already satisfied: scipy>=1.5.0 in c:\\program files\\python311\\lib\\site-packages (from imbalanced-learn==0.12.3->ggd-py-utils==0.1.0) (1.13.1)\n",
      "Requirement already satisfied: joblib>=1.1.1 in c:\\program files\\python311\\lib\\site-packages (from imbalanced-learn==0.12.3->ggd-py-utils==0.1.0) (1.4.2)\n",
      "Requirement already satisfied: threadpoolctl>=2.0.0 in c:\\program files\\python311\\lib\\site-packages (from imbalanced-learn==0.12.3->ggd-py-utils==0.1.0) (3.5.0)\n",
      "Requirement already satisfied: click in c:\\users\\gerar\\appdata\\roaming\\python\\python311\\site-packages (from nltk==3.8.1->ggd-py-utils==0.1.0) (8.1.7)\n",
      "Requirement already satisfied: regex>=2021.8.3 in c:\\program files\\python311\\lib\\site-packages (from nltk==3.8.1->ggd-py-utils==0.1.0) (2024.4.28)\n",
      "Requirement already satisfied: python-dateutil>=2.8.2 in c:\\users\\gerar\\appdata\\roaming\\python\\python311\\site-packages (from pandas==2.2.2->ggd-py-utils==0.1.0) (2.9.0.post0)\n",
      "Requirement already satisfied: pytz>=2020.1 in c:\\users\\gerar\\appdata\\roaming\\python\\python311\\site-packages (from pandas==2.2.2->ggd-py-utils==0.1.0) (2024.1)\n",
      "Requirement already satisfied: tzdata>=2022.7 in c:\\users\\gerar\\appdata\\roaming\\python\\python311\\site-packages (from pandas==2.2.2->ggd-py-utils==0.1.0) (2024.1)\n",
      "Requirement already satisfied: six>=1.5 in c:\\users\\gerar\\appdata\\roaming\\python\\python311\\site-packages (from python-dateutil>=2.8.2->pandas==2.2.2->ggd-py-utils==0.1.0) (1.16.0)\n",
      "Note: you may need to restart the kernel to use updated packages.\n"
     ]
    },
    {
     "name": "stderr",
     "output_type": "stream",
     "text": [
      "  Running command git clone --filter=blob:none --quiet https://github.com/ggaldamesd/ggd-py-utils.git 'C:\\Users\\gerar\\AppData\\Local\\Temp\\pip-req-build-ihoj6n18'\n"
     ]
    }
   ],
   "source": [
    "%pip install git+https://github.com/ggaldamesd/ggd-py-utils.git"
   ]
  },
  {
   "cell_type": "code",
   "execution_count": 2,
   "metadata": {},
   "outputs": [
    {
     "name": "stdout",
     "output_type": "stream",
     "text": [
      "\u001b[36mTrace: hola -> \u001b[33mTime: \u001b[32m0.0000 seconds\u001b[0m\n"
     ]
    }
   ],
   "source": [
    "from ggd_py_utils.tracing.metrics import time_block\n",
    "\n",
    "with time_block(block_name=\"hola\"):\n",
    "    pass"
   ]
  }
 ],
 "metadata": {
  "kernelspec": {
   "display_name": "Python 3",
   "language": "python",
   "name": "python3"
  },
  "language_info": {
   "codemirror_mode": {
    "name": "ipython",
    "version": 3
   },
   "file_extension": ".py",
   "mimetype": "text/x-python",
   "name": "python",
   "nbconvert_exporter": "python",
   "pygments_lexer": "ipython3",
   "version": "3.11.9"
  }
 },
 "nbformat": 4,
 "nbformat_minor": 2
}
